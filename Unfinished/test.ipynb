{
 "cells": [
  {
   "cell_type": "code",
   "execution_count": 13,
   "id": "3b32036e",
   "metadata": {},
   "outputs": [],
   "source": [
    "from tensorflow.keras.datasets import mnist\n",
    "from tensorflow.keras.utils import to_categorical\n",
    "import cupy as cp\n",
    "import numpy as np"
   ]
  },
  {
   "cell_type": "markdown",
   "id": "69ef9083",
   "metadata": {},
   "source": [
    "# cupy"
   ]
  },
  {
   "cell_type": "code",
   "execution_count": 10,
   "id": "bb546c5d",
   "metadata": {},
   "outputs": [
    {
     "name": "stdout",
     "output_type": "stream",
     "text": [
      "3.87 s ± 57 ms per loop (mean ± std. dev. of 7 runs, 1 loop each)\n"
     ]
    }
   ],
   "source": [
    "%%timeit\n",
    "(X_train, y_train), (X_test, y_test) = mnist.load_data()\n",
    "X_test = cp.asarray(X_test.reshape(-1, 28, 28, 1).astype('float32') / 255)\n",
    "y_test = cp.asarray(to_categorical(y_test))  # one-hot encoding\n",
    "\n",
    "connectivity_matrix = cp.asarray(np.round(np.random.rand(32, 784)))\n",
    "def softmax_gpu(x):\n",
    "    z = x - cp.max(x)   # overflow protection (softmax(x) = softmax(x - const))\n",
    "    return cp.exp(z) / cp.sum(cp.exp(z))\n",
    "for x, y in zip(X_test, y_test):\n",
    "    softmax_gpu(cp.asarray([1]) * connectivity_matrix @ x.reshape(-1) + cp.asarray([0]))"
   ]
  },
  {
   "cell_type": "code",
   "execution_count": 3,
   "id": "e005db43",
   "metadata": {},
   "outputs": [],
   "source": [
    "connectivity_matrix = cp.asarray(np.round(np.random.rand(32, 784)))\n",
    "def softmax_gpu(x):\n",
    "    z = x - cp.max(x)   # overflow protection (softmax(x) = softmax(x - const))\n",
    "    return cp.exp(z) / cp.sum(cp.exp(z))"
   ]
  },
  {
   "cell_type": "code",
   "execution_count": 8,
   "id": "98a451e2",
   "metadata": {},
   "outputs": [
    {
     "ename": "NameError",
     "evalue": "name 'X_test' is not defined",
     "output_type": "error",
     "traceback": [
      "\u001b[1;31m---------------------------------------------------------------------------\u001b[0m",
      "\u001b[1;31mNameError\u001b[0m                                 Traceback (most recent call last)",
      "Input \u001b[1;32mIn [8]\u001b[0m, in \u001b[0;36m<cell line: 1>\u001b[1;34m()\u001b[0m\n\u001b[1;32m----> 1\u001b[0m \u001b[43mX_test\u001b[49m\n",
      "\u001b[1;31mNameError\u001b[0m: name 'X_test' is not defined"
     ]
    }
   ],
   "source": [
    "X_test"
   ]
  },
  {
   "cell_type": "code",
   "execution_count": null,
   "id": "9aea3552",
   "metadata": {},
   "outputs": [],
   "source": [
    "%%timeit\n",
    "for x, y in zip(X_test, y_test):\n",
    "    softmax_gpu(cp.asarray([1]) * connectivity_matrix @ x + cp.asarray([0]))"
   ]
  },
  {
   "cell_type": "markdown",
   "id": "879d283f",
   "metadata": {},
   "source": [
    "# numpy"
   ]
  },
  {
   "cell_type": "code",
   "execution_count": 15,
   "id": "b9aebf86",
   "metadata": {},
   "outputs": [
    {
     "name": "stdout",
     "output_type": "stream",
     "text": [
      "629 ms ± 9.31 ms per loop (mean ± std. dev. of 7 runs, 1 loop each)\n"
     ]
    }
   ],
   "source": [
    "%%timeit\n",
    "(X_train, y_train), (X_test, y_test) = mnist.load_data()\n",
    "X_test = X_test.reshape(-1, 28, 28, 1).astype('float32') / 255\n",
    "y_test = to_categorical(y_test)  # one-hot encoding\n",
    "\n",
    "connectivity_matrix = np.asarray(np.round(np.random.rand(32, 784)))\n",
    "def softmax(x):\n",
    "    z = x - np.max(x)   # overflow protection (softmax(x) = softmax(x - const))\n",
    "    return np.exp(z) / np.sum(np.exp(z))\n",
    "for x, y in zip(X_test, y_test):\n",
    "    softmax(np.asarray([1]) * connectivity_matrix @ x.reshape(-1) + np.asarray([0]))"
   ]
  },
  {
   "cell_type": "code",
   "execution_count": null,
   "id": "03f09be5",
   "metadata": {},
   "outputs": [],
   "source": []
  }
 ],
 "metadata": {
  "kernelspec": {
   "display_name": "Python 3 (ipykernel)",
   "language": "python",
   "name": "python3"
  },
  "language_info": {
   "codemirror_mode": {
    "name": "ipython",
    "version": 3
   },
   "file_extension": ".py",
   "mimetype": "text/x-python",
   "name": "python",
   "nbconvert_exporter": "python",
   "pygments_lexer": "ipython3",
   "version": "3.9.12"
  }
 },
 "nbformat": 4,
 "nbformat_minor": 5
}
