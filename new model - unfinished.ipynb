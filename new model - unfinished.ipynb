{
 "cells": [
  {
   "cell_type": "code",
   "execution_count": 2,
   "metadata": {
    "collapsed": true
   },
   "outputs": [],
   "source": [
    "import tensorflow as tf\n",
    "from tensorflow.keras.datasets import mnist\n",
    "from tensorflow.keras import layers, models, Model\n",
    "from tensorflow.keras.utils import to_categorical\n",
    "import matplotlib.pyplot as plt\n",
    "import numpy as np\n",
    "import random\n",
    "import time"
   ]
  },
  {
   "cell_type": "code",
   "execution_count": 3,
   "outputs": [],
   "source": [
    "activation_functions = {\n",
    "    'tanh': tf.tanh,\n",
    "    'relu': tf.nn.relu,\n",
    "    'sigmoid': tf.nn.sigmoid,\n",
    "    'linear': (lambda x: x),\n",
    "    'softmax': tf.nn.softmax\n",
    "}"
   ],
   "metadata": {
    "collapsed": false,
    "pycharm": {
     "name": "#%%\n"
    }
   }
  },
  {
   "cell_type": "markdown",
   "source": [
    "**Loading Data**"
   ],
   "metadata": {
    "collapsed": false
   }
  },
  {
   "cell_type": "code",
   "execution_count": 4,
   "outputs": [],
   "source": [
    "t0 = time.time()    # computate total execution time\n",
    "\n",
    "# numpy\n",
    "_, (X_test, y_test) = mnist.load_data() # only care  about X_test\n",
    "\n",
    "X_test = X_test.reshape(10000, 784).astype(np.float32) / 255.0\n",
    "y_test = to_categorical(y_test)  # one-hot encoding\n",
    "\n",
    "# tensorflow\n",
    "X_test = tf.convert_to_tensor(X_test)\n",
    "y_test = tf.convert_to_tensor(y_test)"
   ],
   "metadata": {
    "collapsed": false,
    "pycharm": {
     "name": "#%%\n"
    }
   }
  },
  {
   "cell_type": "markdown",
   "source": [
    "**Model Definition**"
   ],
   "metadata": {
    "collapsed": false
   }
  },
  {
   "cell_type": "code",
   "execution_count": 5,
   "outputs": [],
   "source": [
    "MUTATE_RATE_MATRIX = 0.3\n",
    "MUTATE_RATE_BIAS = 0.1\n",
    "MUTATE_RATE_ACTIVATION_FUNCTION = 0.1\n",
    "GAUSSIAN_NOISE_STDDEV = 1"
   ],
   "metadata": {
    "collapsed": false,
    "pycharm": {
     "name": "#%%\n"
    }
   }
  },
  {
   "cell_type": "code",
   "execution_count": 6,
   "outputs": [],
   "source": [
    "class LinModel(Model):\n",
    "    def __init__(self, matrix1, bias1):\n",
    "        \"\"\"\n",
    "        Weight gnostic multi-layer feed forward neural network\n",
    "        :param params: Params have to be in form: (matrix1=..., bias1=..., activation1=..., matrix2=..., ...)\n",
    "        \"\"\"\n",
    "        super(LinModel, self).__init__()\n",
    "\n",
    "        self.linear1 = tf.keras.layers.Dense(32,\n",
    "                                             activation='sigmoid',\n",
    "                                             kernel_initializer=tf.keras.initializers.Constant(matrix1),\n",
    "                                             bias_initializer=tf.keras.initializers.Constant(bias1))\n",
    "        self.linear2 = tf.keras.layers.Dense(10,\n",
    "                                             activation='softmax',\n",
    "                                             kernel_initializer=tf.keras.initializers.Constant(matrix2),\n",
    "                                             bias_initializer=tf.keras.initializers.Constant(bias2))\n",
    "\n",
    "    def call(self, inputs):\n",
    "        x = self.linear1(inputs)\n",
    "        x = self.linear2(x)\n",
    "        return x"
   ],
   "metadata": {
    "collapsed": false,
    "pycharm": {
     "name": "#%%\n"
    }
   }
  },
  {
   "cell_type": "code",
   "execution_count": 8,
   "outputs": [],
   "source": [
    "bias1 = tf.random.normal(mean=0.0, stddev=1.0, shape=(32,))\n",
    "matrix1 = tf.random.normal(mean=0.0, stddev=1.0, shape=(784, 32))\n",
    "bias2 = tf.random.normal(mean=0.0, stddev=1.0, shape=(10, ))\n",
    "matrix2 = tf.random.normal(mean=0.0, stddev=1.0, shape=(32, 10))\n",
    "\n",
    "lin = LinModel(matrix1=matrix1, bias1=bias1)\n",
    "lin.compile(metrics=['accuracy'])"
   ],
   "metadata": {
    "collapsed": false,
    "pycharm": {
     "name": "#%%\n"
    }
   }
  },
  {
   "cell_type": "code",
   "execution_count": 12,
   "outputs": [
    {
     "name": "stdout",
     "output_type": "stream",
     "text": [
      "245 ms ± 58.3 ms per loop (mean ± std. dev. of 7 runs, 1 loop each)\n"
     ]
    }
   ],
   "source": [
    "%%timeit\n",
    "lin.evaluate(X_test, y_test, verbose=0)[1]"
   ],
   "metadata": {
    "collapsed": false,
    "pycharm": {
     "name": "#%%\n"
    }
   }
  }
 ],
 "metadata": {
  "kernelspec": {
   "display_name": "Python 3",
   "language": "python",
   "name": "python3"
  },
  "language_info": {
   "codemirror_mode": {
    "name": "ipython",
    "version": 2
   },
   "file_extension": ".py",
   "mimetype": "text/x-python",
   "name": "python",
   "nbconvert_exporter": "python",
   "pygments_lexer": "ipython2",
   "version": "2.7.6"
  }
 },
 "nbformat": 4,
 "nbformat_minor": 0
}