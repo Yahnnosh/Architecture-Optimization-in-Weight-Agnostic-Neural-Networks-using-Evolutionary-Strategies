{
 "cells": [
  {
   "cell_type": "code",
   "execution_count": 1,
   "metadata": {
    "collapsed": true
   },
   "outputs": [],
   "source": [
    "import tensorflow as tf\n",
    "from tensorflow.keras.datasets import mnist\n",
    "from tensorflow.keras import layers, models, Model\n",
    "from tensorflow.keras.utils import to_categorical\n",
    "import matplotlib.pyplot as plt\n",
    "import numpy as np\n",
    "import random\n",
    "import time"
   ]
  },
  {
   "cell_type": "code",
   "execution_count": 2,
   "outputs": [],
   "source": [
    "def softmax(x):\n",
    "    z = x - np.max(x)   # overflow protection (softmax(x) = softmax(x - const))\n",
    "    return np.exp(z) / np.sum(np.exp(z))\n",
    "\n",
    "activation_functions = {\n",
    "    'tanh': tf.tanh,\n",
    "    'relu': (lambda x: tf.maximum(0, x)),\n",
    "    'sigmoid': (lambda x: 1 / (1 + tf.exp(-x))),\n",
    "    'linear': (lambda x: x),\n",
    "    'softmax': tf.nn.softmax\n",
    "}"
   ],
   "metadata": {
    "collapsed": false,
    "pycharm": {
     "name": "#%%\n"
    }
   }
  },
  {
   "cell_type": "markdown",
   "source": [
    "**Loading Data**"
   ],
   "metadata": {
    "collapsed": false
   }
  },
  {
   "cell_type": "code",
   "execution_count": 3,
   "outputs": [
    {
     "name": "stdout",
     "output_type": "stream",
     "text": [
      "CPU times: total: 344 ms\n",
      "Wall time: 358 ms\n"
     ]
    }
   ],
   "source": [
    "%%time\n",
    "t0 = time.time()\n",
    "# numpy\n",
    "(X_train, y_train), (X_test, y_test) = mnist.load_data()\n",
    "\n",
    "X_train = X_train.reshape(-1, np.shape(X_train)[1] * np.shape(X_train)[1]).astype(np.float32) / 255.0\n",
    "X_test = X_test.reshape(-1, np.shape(X_test)[1] * np.shape(X_test)[1]).astype(np.float32) / 255.0\n",
    "\n",
    "y_train = to_categorical(y_train)   # one-hot encoding\n",
    "y_test = to_categorical(y_test)  # one-hot encoding\n",
    "\n",
    "# tensorflow\n",
    "X = tf.convert_to_tensor(np.transpose(X_test))\n",
    "Y = tf.convert_to_tensor(np.transpose(y_test))"
   ],
   "metadata": {
    "collapsed": false,
    "pycharm": {
     "name": "#%%\n"
    }
   }
  },
  {
   "cell_type": "markdown",
   "source": [
    "**Network Definition**"
   ],
   "metadata": {
    "collapsed": false
   }
  },
  {
   "cell_type": "code",
   "execution_count": 4,
   "outputs": [],
   "source": [
    "MUTATE_RATE_MATRIX = 0.3\n",
    "MUTATE_RATE_BIAS = 0.1\n",
    "MUTATE_RATE_ACTIVATION_FUNCTION = 0.1\n",
    "GAUSSIAN_NOISE_STDDEV = 1"
   ],
   "metadata": {
    "collapsed": false,
    "pycharm": {
     "name": "#%%\n"
    }
   }
  },
  {
   "cell_type": "code",
   "execution_count": 5,
   "outputs": [],
   "source": [
    "def bitstring_mutation(param, mutate_rate, n_bits=7):\n",
    "    try:\n",
    "        # TODO: check if correct (esp. sign)\n",
    "        bitstring = bin(param)[2:].zfill(param)\n",
    "        temp = ''\n",
    "        sign = +1 if random.uniform(0, 1) else -1\n",
    "        for i in range(len(bitstring)):\n",
    "            if random.uniform(0, 1) < mutate_rate:\n",
    "                temp2 = '0' if bitstring[i] == '1' else '1'\n",
    "                temp += temp2\n",
    "            else:\n",
    "                temp += bitstring[i]\n",
    "        return sign * int(temp, 2)\n",
    "\n",
    "    except (TypeError):\n",
    "        bitstring = bin(param)[2:].zfill(param)\n",
    "        temp = ''\n",
    "        sign = +1 if random.uniform(0, 1) else -1\n",
    "        for i in range(len(bitstring)):\n",
    "            if random.uniform(0, 1) < mutate_rate:\n",
    "                temp2 = '0' if bitstring[i] == '1' else '1'\n",
    "                temp += temp2\n",
    "            else:\n",
    "                temp += bitstring[i]\n",
    "        print(param, temp)"
   ],
   "metadata": {
    "collapsed": false,
    "pycharm": {
     "name": "#%%\n"
    }
   }
  },
  {
   "cell_type": "code",
   "execution_count": 6,
   "outputs": [],
   "source": [
    "class MultiLayerPerceptron(Model):\n",
    "    # TODO: variable layers\n",
    "    def __init__(self, matrix1, bias1, activation1, matrix2, bias2, activation2):\n",
    "        super(MultiLayerPerceptron, self).__init__()\n",
    "\n",
    "        self.matrix1 = matrix1\n",
    "        self.bias1 = bias1\n",
    "        self.activation1 = activation1\n",
    "\n",
    "        self.matrix2 = matrix2\n",
    "        self.bias2 = bias2\n",
    "        self.activation2 = activation2\n",
    "\n",
    "    def call(self, input):\n",
    "        x = self.matrix1 @ input\n",
    "        x += self.bias1\n",
    "        x = activation_functions[self.activation1](x)\n",
    "\n",
    "        x = self.matrix2 @ x\n",
    "        x += self.bias2\n",
    "        x = activation_functions[self.activation2](x)\n",
    "\n",
    "        return x\n",
    "\n",
    "    def evaluate(self):\n",
    "        y_pred = np.argmax(self.call(X), axis=0)\n",
    "        y_true = np.argmax(Y, axis=0)\n",
    "        return np.mean(y_pred == y_true)\n",
    "\n",
    "    def mutate(self):\n",
    "        # TODO: quite arbitrary, inefficient and do negative numbers work?\n",
    "        # TODO: only works for integers as of now\n",
    "\n",
    "        # connectivity matrix\n",
    "        for matrix_name in ('matrix1', 'matrix2'):\n",
    "            matrix = getattr(self, matrix_name)\n",
    "            # TODO: clamp to min, max?\n",
    "            mutation_stencil = tf.cast(tf.reshape(tf.random.categorical(\n",
    "                tf.math.log([[1 - MUTATE_RATE_MATRIX, MUTATE_RATE_MATRIX]]),\n",
    "                matrix.shape[0] * matrix.shape[1]), matrix.shape), tf.float32)\n",
    "            noise = tf.random.normal(mean=0.0, stddev=GAUSSIAN_NOISE_STDDEV, shape=matrix.shape)  # TODO: tune stddev\n",
    "            matrix = matrix + tf.multiply(mutation_stencil, noise)\n",
    "            setattr(self, matrix_name, matrix)\n",
    "            '''for row in range(matrix.shape[0]):\n",
    "                for col in range(matrix.shape[1]):\n",
    "                    if random.uniform(0, 1) < MUTATE_RATE_MATRIX:\n",
    "                        matrix[row][col] = bitstring_mutation(matrix[row][col], MUTATE_RATE_MATRIX, n_bits=7)'''\n",
    "\n",
    "        # bias\n",
    "        for bias_name in ('bias1', 'bias2'):\n",
    "            bias = getattr(self, bias_name)\n",
    "            mutation_stencil = tf.cast(tf.reshape(tf.random.categorical(\n",
    "                tf.math.log([[1 - MUTATE_RATE_BIAS, MUTATE_RATE_BIAS]]),\n",
    "                bias.shape[0] * bias.shape[1]), bias.shape), tf.float32)\n",
    "            noise = tf.random.normal(mean=0.0, stddev=GAUSSIAN_NOISE_STDDEV, shape=bias.shape)  # TODO: tune stddev\n",
    "            bias = bias + tf.multiply(mutation_stencil, noise)\n",
    "            setattr(self, bias_name, bias)\n",
    "            '''bias = bitstring_mutation(bias, MUTATE_RATE_BIAS, n_bits=7)'''\n",
    "\n",
    "        # activation function\n",
    "        # TODO: keep softmax at the end?\n",
    "        for activation_name in ('activation1'):\n",
    "            if random.uniform(0, 1) < MUTATE_RATE_ACTIVATION_FUNCTION:\n",
    "                activation = random.choice(list(activation_functions.keys()))\n",
    "                setattr(self, activation_name, activation)"
   ],
   "metadata": {
    "collapsed": false,
    "pycharm": {
     "name": "#%%\n"
    }
   }
  },
  {
   "cell_type": "code",
   "execution_count": 7,
   "outputs": [],
   "source": [
    "class Population():\n",
    "    def __init__(self, size=10, n_survivors=5):\n",
    "        self.generation = 0\n",
    "        self.size = size\n",
    "        self.n_survivors = n_survivors\n",
    "        self.elite = None\n",
    "\n",
    "        # initialization (gaussian)\n",
    "        # TODO: max, min for now 7-bit integers\n",
    "        self.organisms = []\n",
    "        for _ in range(size):\n",
    "            # TODO: for now fixed architecture\n",
    "            bias1 = tf.random.normal(mean=0.0, stddev=1.0, shape=[32, 1])\n",
    "            matrix1 = tf.random.normal(mean=0.0, stddev=1.0, shape=[32, 784])\n",
    "            activation1 = 'sigmoid'\n",
    "\n",
    "            bias2 = tf.random.normal(mean=0.0, stddev=1.0, shape=[10, 1])\n",
    "            matrix2 = tf.random.normal(mean=0.0, stddev=1.0, shape=[10, 32])\n",
    "            activation2 = 'softmax'\n",
    "\n",
    "            model = MultiLayerPerceptron(matrix1, bias1, activation1, matrix2, bias2, activation2)\n",
    "            model.compile()\n",
    "\n",
    "            self.organisms.append(model)\n",
    "\n",
    "        self.history = [(max(self.organism_fitness()), self.average_fitness())]   # fitness of population over all generations\n",
    "\n",
    "    def organism_fitness(self):\n",
    "        return [organism.evaluate() for organism in self.organisms]\n",
    "\n",
    "    def average_fitness(self):\n",
    "        organism_fitness = self.organism_fitness()\n",
    "        return sum(organism_fitness) / len(organism_fitness)\n",
    "\n",
    "    def max_fitness(self):\n",
    "        return max(self.organism_fitness())\n",
    "\n",
    "    def selection(self):\n",
    "        organism_fitness = self.organism_fitness()\n",
    "\n",
    "        # elitism (n=1)\n",
    "        elite_index = np.argmax(organism_fitness)\n",
    "        self.elite = self.organisms.pop(elite_index)\n",
    "        organism_fitness.pop(elite_index)\n",
    "\n",
    "        probabilities = [fitness / sum(organism_fitness) for fitness in organism_fitness]  # normalized\n",
    "        survivors = np.random.choice(self.organisms,\n",
    "                                     size=self.n_survivors - 1,\n",
    "                                     p=probabilities,\n",
    "                                     replace=False)    # TODO: works without replacement and p?\n",
    "        return [survivor for survivor in survivors]\n",
    "\n",
    "    def crossover(self, parents):\n",
    "        # TODO: for different type of networks\n",
    "        # TODO: correct?\n",
    "        children = []\n",
    "        while len(children) < (self.size - 1):\n",
    "            [father, mother] = random.sample(parents + [self.elite], k=2)  # sample without replacement\n",
    "\n",
    "            # TODO: for now assume same no of layers\n",
    "            # TODO: create new model - efficient?\n",
    "\n",
    "            # bias, activation function (full gene crossover) # TODO: good?\n",
    "            child_bias1 = father.bias1 if (random.uniform(0, 1) < 0.5) else mother.bias1\n",
    "            child_bias2 = father.bias2 if (random.uniform(0, 1) < 0.5) else mother.bias2\n",
    "\n",
    "            child_activation1 = father.activation1 if (random.uniform(0, 1) < 0.5) else mother.activation1\n",
    "            child_activation2 = father.activation2 if (random.uniform(0, 1) < 0.5) else mother.activation2\n",
    "\n",
    "            # matrix (uniform (bit-wise) crossover) # TODO: good?\n",
    "            father_stencil = tf.round(tf.random.uniform(father.matrix1.shape))\n",
    "            mother_stencil = - (father_stencil - 1)\n",
    "            child_matrix1 = tf.multiply(father_stencil, father.matrix1) + tf.multiply(mother_stencil, mother.matrix1)\n",
    "\n",
    "            father_stencil = tf.round(tf.random.uniform(father.matrix2.shape))\n",
    "            mother_stencil = - (father_stencil - 1)\n",
    "            child_matrix2 = tf.multiply(father_stencil, father.matrix2) + tf.multiply(mother_stencil, mother.matrix2)\n",
    "\n",
    "            model = MultiLayerPerceptron(child_matrix1,\n",
    "                                         child_bias1,\n",
    "                                         child_activation1,\n",
    "                                         child_matrix2,\n",
    "                                         child_bias2,\n",
    "                                         child_activation2)\n",
    "            model.compile() # TODO: necessary??\n",
    "            children.append(model)\n",
    "\n",
    "        return children\n",
    "\n",
    "    def mutate(self, organisms):\n",
    "        for organism in organisms:\n",
    "            organism.mutate()\n",
    "\n",
    "    def breed(self):\n",
    "        #time_debug = ''\n",
    "\n",
    "        #t_a = time.time()\n",
    "        parents = self.selection()\n",
    "        #t_b = time.time()\n",
    "        #time_debug += 'selection time: {}s - '.format(round(t_b - t_a, 4))\n",
    "\n",
    "        #t_a = time.time()\n",
    "        children = self.crossover(parents)\n",
    "        #t_b = time.time()\n",
    "        #time_debug += 'crossover time: {}s - '.format(round(t_b - t_a, 4))\n",
    "\n",
    "        #t_a = time.time()\n",
    "        self.mutate(children)  # TODO: mGA or GA?\n",
    "        #t_b = time.time()\n",
    "        #time_debug += 'mutation time: {}s - '.format(round(t_b - t_a, 4))\n",
    "\n",
    "        #print(time_debug)\n",
    "\n",
    "        self.organisms = children + [self.elite]\n",
    "        self.generation += 1\n",
    "        self.history.append((self.max_fitness(), self.average_fitness()))\n",
    "\n",
    "    def plot(self):\n",
    "        plt.figure()\n",
    "        plt.plot(np.arange(self.generation + 1), [score[0] for score in self.history],\n",
    "                 label='max fitness')\n",
    "        plt.plot(np.arange(self.generation + 1), [score[1] for score in self.history],\n",
    "                 label='avg fitness', alpha=0.6)\n",
    "        plt.title('Population fitness' + ' (n=' + str(self.size) + ')')\n",
    "        plt.xlabel('Generations')\n",
    "        plt.ylabel('Fitness score (accuracy)')\n",
    "        plt.legend()\n",
    "        plt.show()"
   ],
   "metadata": {
    "collapsed": false,
    "pycharm": {
     "name": "#%%\n"
    }
   }
  },
  {
   "cell_type": "markdown",
   "source": [
    "**Training**"
   ],
   "metadata": {
    "collapsed": false
   }
  },
  {
   "cell_type": "code",
   "execution_count": 17,
   "outputs": [],
   "source": [
    "# initialization\n",
    "GENERATIONS = 1000\n",
    "POPULATION_SIZE = 100\n",
    "SURVIVORS = 35"
   ],
   "metadata": {
    "collapsed": false,
    "pycharm": {
     "name": "#%%\n"
    }
   }
  },
  {
   "cell_type": "code",
   "execution_count": null,
   "outputs": [],
   "source": [
    "# initial population\n",
    "print('Starting training')\n",
    "t_training = time.time()\n",
    "population = Population(size=POPULATION_SIZE, n_survivors=SURVIVORS)\n",
    "population_fitness = population.organism_fitness()\n",
    "max_fitness = population.max_fitness()\n",
    "t2 = time.time()\n",
    "print('Gen', 0, ':',\n",
    "      population_fitness, '- max:',\n",
    "      max_fitness,\n",
    "      '({}s)'.format(round(t2 - t_training, 2)))\n",
    "\n",
    "# future populations\n",
    "for generation in range(1, GENERATIONS):\n",
    "    # breed new population\n",
    "    t1 = time.time()\n",
    "    population.breed()\n",
    "\n",
    "    # evaluate new population\n",
    "    population_fitness = population.organism_fitness()\n",
    "    max_fitness = population.max_fitness()\n",
    "    t2 = time.time()\n",
    "\n",
    "    print('Gen', generation, ':',\n",
    "          population_fitness, '- max:',\n",
    "          max_fitness,\n",
    "          '({}s)'.format(round(t2 - t1, 2)))\n",
    "\n",
    "print('Finished training ({})'.format(round(time.time() - t_training, 2)))\n",
    "print('\\nTotal computation time: ({}s)'.format(round(time.time() - t0, 2)))\n",
    "\n",
    "# performance of population\n",
    "population.plot()"
   ],
   "metadata": {
    "collapsed": false,
    "pycharm": {
     "name": "#%%\n"
    }
   }
  }
 ],
 "metadata": {
  "kernelspec": {
   "display_name": "Python 3",
   "language": "python",
   "name": "python3"
  },
  "language_info": {
   "codemirror_mode": {
    "name": "ipython",
    "version": 2
   },
   "file_extension": ".py",
   "mimetype": "text/x-python",
   "name": "python",
   "nbconvert_exporter": "python",
   "pygments_lexer": "ipython2",
   "version": "2.7.6"
  }
 },
 "nbformat": 4,
 "nbformat_minor": 0
}