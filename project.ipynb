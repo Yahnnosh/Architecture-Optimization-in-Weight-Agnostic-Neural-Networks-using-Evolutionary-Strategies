{
 "cells": [
  {
   "cell_type": "code",
   "execution_count": 1,
   "id": "272304cb",
   "metadata": {},
   "outputs": [],
   "source": [
    "import tensorflow as tf\n",
    "from tensorflow.keras.datasets import mnist\n",
    "from tensorflow.keras import layers, models\n",
    "from tensorflow.keras.utils import to_categorical\n",
    "import matplotlib.pyplot as plt\n",
    "import numpy as np\n",
    "import random\n",
    "import time\n",
    "import cupy as cp"
   ]
  },
  {
   "cell_type": "code",
   "execution_count": 3,
   "id": "f30a32a9",
   "metadata": {},
   "outputs": [],
   "source": [
    "# Activation functions\n",
    "def softmax(x):\n",
    "    z = x - np.max(x)   # overflow protection (softmax(x) = softmax(x - const))\n",
    "    return np.exp(z) / np.sum(np.exp(z))\n",
    "\n",
    "activation_functions = {\n",
    "    'tanh': np.tanh,\n",
    "    'relu': (lambda x: np.maximum(0, x)),\n",
    "    'sigmoid': (lambda x: 1 / (1 + np.exp(-x))),\n",
    "    'linear': (lambda x: x),\n",
    "    'softmax': softmax\n",
    "}"
   ]
  },
  {
   "cell_type": "markdown",
   "id": "8f652445",
   "metadata": {},
   "source": [
    "**Loading Data**"
   ]
  },
  {
   "cell_type": "code",
   "execution_count": 32,
   "id": "127f875d",
   "metadata": {},
   "outputs": [
    {
     "name": "stdout",
     "output_type": "stream",
     "text": [
      "Loading data\n",
      "Finished loading data (0.33s)\n",
      "\n"
     ]
    }
   ],
   "source": [
    "# Loading data + preprocessing\n",
    "print('Loading data')\n",
    "t0 = time.time()\n",
    "(X_train, y_train), (X_test, y_test) = mnist.load_data()\n",
    "X_train = X_train.reshape(-1, 28, 28, 1).astype('float32') / 255\n",
    "X_test = cp.asarray(X_test.reshape(-1, 28, 28, 1).astype('float32') / 255).reshape(10000, 784)\n",
    "y_train = to_categorical(y_train)   # one-hot encoding\n",
    "y_test = cp.asarray(to_categorical(y_test))  # one-hot encoding\n",
    "print('Finished loading data ({}s)\\n'.format(round(time.time() - t0, 2)))"
   ]
  },
  {
   "cell_type": "markdown",
   "id": "62dac030",
   "metadata": {},
   "source": [
    "**Network Definition**"
   ]
  },
  {
   "cell_type": "code",
   "execution_count": 5,
   "id": "b0f3e810",
   "metadata": {},
   "outputs": [],
   "source": [
    "class Layer():\n",
    "    def __init__(self, weight, connectivity_matrix, bias, activation_function,\n",
    "                 innovation, enabled, output_layer=False):\n",
    "        self.weight = weight\n",
    "        self.connectivity_matrix = connectivity_matrix\n",
    "        self.bias = bias\n",
    "        if output_layer:\n",
    "            assert(activation_function == 'softmax'), 'output layer must use softmax'\n",
    "        self.activation_function = activation_function\n",
    "        self.innovation = innovation\n",
    "        self.enabled = enabled\n",
    "        self.output_layer = output_layer    # final 10 neuron layer (activation fixed to softmax)\n",
    "\n",
    "        # TODO: tune\n",
    "        self.mutate_rate_weight = 0.1\n",
    "        self.mutate_rate_connections = 0.3\n",
    "        self.mutate_rate_bias = 0.1\n",
    "        self.mutate_rate_activation_function = 0.1\n",
    "\n",
    "    def forward(self, input):\n",
    "        return activation_functions[self.activation_function](\n",
    "            self.weight * self.connectivity_matrix @ input + self.bias\n",
    "        )\n",
    "\n",
    "    def mutate(self):\n",
    "        # TODO: correct idea?\n",
    "        # TODO: quite arbitrary, inefficient and do negative numbers work?\n",
    "\n",
    "        # weight\n",
    "        # TODO: change this mess\n",
    "        weight_bin = bin(self.weight)[2:].zfill(7)   # 7 bit bitstring\n",
    "        temp = ''\n",
    "        for i in range(len(weight_bin)):\n",
    "            if random.uniform(0, 1) < self.mutate_rate_weight:\n",
    "                temp2 = '0' if weight_bin[i] == '1' else '1'\n",
    "                temp += temp2\n",
    "            else:\n",
    "                temp += weight_bin[i]\n",
    "        self.weight = int(temp, 2)\n",
    "\n",
    "        # connectivity matrix\n",
    "        # TODO: row, col correct?\n",
    "        for row in range(np.shape(self.connectivity_matrix)[0]):\n",
    "            for col in range(np.shape(self.connectivity_matrix)[1]):\n",
    "                if random.uniform(0, 1) < self.mutate_rate_connections:\n",
    "                    self.connectivity_matrix[row][col] = 1 - self.connectivity_matrix[row][col]\n",
    "\n",
    "        # bias\n",
    "        # TODO: change this mess\n",
    "        bias_bin = bin(self.bias)[2:].zfill(7)  # 7 bit bitstring\n",
    "        temp = ''\n",
    "        for i in range(len(bias_bin)):\n",
    "            if random.uniform(0, 1) < self.mutate_rate_bias:\n",
    "                temp2 = '0' if bias_bin[i] == '1' else '1'\n",
    "                temp += temp2\n",
    "            else:\n",
    "                temp += bias_bin[i]\n",
    "        self.bias = int(temp, 2)\n",
    "\n",
    "        # activation function\n",
    "        if not self.output_layer:\n",
    "            if random.uniform(0, 1) < self.mutate_rate_activation_function:\n",
    "                self.activation_function = random.choice(list(activation_functions.keys()))"
   ]
  },
  {
   "cell_type": "code",
   "execution_count": 6,
   "id": "3d79d91e",
   "metadata": {},
   "outputs": [],
   "source": [
    "class Network():\n",
    "    def __init__(self, layers):\n",
    "        self.layers = layers    # structured (feedforward) array of layers\n",
    "\n",
    "    def forward(self, input):\n",
    "        temp = input\n",
    "        for layer in self.layers:\n",
    "            temp = layer.forward(temp)\n",
    "        return temp\n",
    "\n",
    "    def evaluate(self):  # TODO: slow? (on cpu ~0.55s per call)\n",
    "        accuracy = 0\n",
    "        for x, y in zip(X_test, y_test):\n",
    "            y_pred = np.argmax(self.forward(x.reshape(-1)))  # class with highest value\n",
    "            y_true = np.argmax(y)\n",
    "            if y_pred == y_true:\n",
    "                accuracy += 1\n",
    "        return accuracy / np.shape(X_test)[0]\n",
    "\n",
    "    def mutate(self):\n",
    "        for layer in self.layers:\n",
    "            layer.mutate()\n",
    "        # TODO: change network mutation (new layers)"
   ]
  },
  {
   "cell_type": "code",
   "execution_count": 7,
   "id": "436ea2d0",
   "metadata": {},
   "outputs": [],
   "source": [
    "class Population():\n",
    "    def __init__(self, size=10, n_survivors=5):\n",
    "        self.generation = 0\n",
    "        self.size = size\n",
    "        self.n_survivors = n_survivors  # TODO: for now must be odd number (1 elite + odd breeders)\n",
    "        self.elite = None\n",
    "\n",
    "        # initialization # TODO: better (quite random now - e.g. 32 hidden neurons)\n",
    "        self.organisms = []\n",
    "        for i in range(size):\n",
    "            # one hidden layer (32 neurons), one output layer (10 neurons - 1 resp. to each class)\n",
    "            self.organisms.append(Network([\n",
    "                Layer(\n",
    "                    weight=1,\n",
    "                    connectivity_matrix=cp.asarray(np.round(np.random.rand(32, 784))),\n",
    "                    bias=0,\n",
    "                    activation_function='sigmoid',\n",
    "                    innovation=0,\n",
    "                    enabled=True,\n",
    "                    output_layer=False\n",
    "                ),\n",
    "                Layer(\n",
    "                    weight=1,\n",
    "                    connectivity_matrix=cp.asarray(np.round(np.random.rand(10, 32))),\n",
    "                    bias=0,\n",
    "                    activation_function='softmax',\n",
    "                    innovation=0,\n",
    "                    enabled=True,\n",
    "                    output_layer=True\n",
    "                )\n",
    "            ]))\n",
    "\n",
    "        self.history = [(max(self.organism_fitness()), self.average_fitness())]   # fitness of population over all generations\n",
    "\n",
    "    def organism_fitness(self):\n",
    "        # TODO: speciation\n",
    "        return [organism.evaluate() for organism in self.organisms]\n",
    "\n",
    "    def average_fitness(self):\n",
    "        # TODO: speciation\n",
    "        organism_fitness = self.organism_fitness()\n",
    "        return sum(organism_fitness) / len(organism_fitness)\n",
    "\n",
    "    def max_fitness(self):\n",
    "        # TODO: speciation\n",
    "        return max(self.organism_fitness())\n",
    "\n",
    "    def selection(self):\n",
    "        organism_fitness = self.organism_fitness()\n",
    "\n",
    "        # elitism (n=1)\n",
    "        elite_index = np.argmax(organism_fitness)\n",
    "        self.elite = self.organisms.pop(elite_index)\n",
    "        organism_fitness.pop(elite_index)\n",
    "\n",
    "        probabilities = [fitness / sum(organism_fitness) for fitness in organism_fitness]  # normalized\n",
    "        survivors = np.random.choice(self.organisms,\n",
    "                                     size=self.n_survivors - 1,\n",
    "                                     p=probabilities,\n",
    "                                     replace=False)    # TODO: works without replacement and p?\n",
    "        return [survivor for survivor in survivors]\n",
    "\n",
    "    def crossover(self, parents):\n",
    "        # TODO: for different type of networks\n",
    "        # TODO: correct?\n",
    "        children = []\n",
    "        while len(children) < (self.size - 1):\n",
    "            [father, mother] = random.sample(parents + [self.elite], k=2)  # sample without replacement\n",
    "            layers = []\n",
    "\n",
    "            # TODO: for now assume same no of layers\n",
    "            for father_gene, mother_gene in zip(father.layers, mother.layers):\n",
    "                # full gene crossover # TODO: correct?\n",
    "                child_weight = father_gene.weight if (random.uniform(0, 1) < 0.5) else mother_gene.weight\n",
    "                child_bias = father_gene.bias if (random.uniform(0, 1) < 0.5) else mother_gene.bias\n",
    "                child_activation_function = father_gene.activation_function if \\\n",
    "                    (random.uniform(0, 1) < 0.5) else mother_gene.activation_function\n",
    "\n",
    "                # uniform (bit-wise) crossover # TODO: correct?\n",
    "                child_connectivity_matrix = np.zeros(np.shape(father_gene.connectivity_matrix))\n",
    "                for row in range(np.shape(child_connectivity_matrix)[0]):\n",
    "                    for col in range(np.shape(child_connectivity_matrix)[1]):\n",
    "                        child_connectivity_matrix[row][col] = father_gene.connectivity_matrix[row][col] \\\n",
    "                            if (random.uniform(0, 1) < 0.5) else mother_gene.connectivity_matrix[row][col]\n",
    "\n",
    "                layers.append(Layer(\n",
    "                    weight=child_weight,\n",
    "                    connectivity_matrix=cp.asarray(child_connectivity_matrix),\n",
    "                    bias=child_bias,\n",
    "                    activation_function=child_activation_function,\n",
    "                    innovation=0,\n",
    "                    enabled=True\n",
    "                ))\n",
    "\n",
    "            children.append(Network(layers))\n",
    "\n",
    "        return children\n",
    "\n",
    "    def mutate(self, organisms):\n",
    "        for organism in organisms:\n",
    "            organism.mutate()\n",
    "\n",
    "    def breed(self):\n",
    "        parents = self.selection()\n",
    "        children = self.crossover(parents)\n",
    "        '''print('pre mutation', [child.evaluate() for child in children], 'elite', self.elite.evaluate())\n",
    "        self.mutate(children)\n",
    "        print('after mutation', [child.evaluate() for child in children], 'elite', self.elite.evaluate())\n",
    "        weights = '['\n",
    "        for organims in (children + [self.elite]):\n",
    "            weights += str(organims.layers[0].weight) + ', '\n",
    "        print(weights + ']')'''\n",
    "        self.organisms = children + [self.elite]\n",
    "        self.generation += 1\n",
    "        self.history.append((self.max_fitness(), self.average_fitness()))\n",
    "\n",
    "    def plot(self):\n",
    "        plt.figure()\n",
    "        plt.plot(np.arange(self.generation + 1), [score[0] for score in self.history],\n",
    "                 label='max fitness')\n",
    "        plt.plot(np.arange(self.generation + 1), [score[1] for score in self.history],\n",
    "                 label='avg fitness', alpha=0.6)\n",
    "        plt.title('Population fitness')\n",
    "        plt.xlabel('Generations')\n",
    "        plt.ylabel('Fitness score (accuracy)')\n",
    "        plt.legend()\n",
    "        plt.show()"
   ]
  },
  {
   "cell_type": "markdown",
   "id": "184108d9",
   "metadata": {},
   "source": [
    "**Training**"
   ]
  },
  {
   "cell_type": "code",
   "execution_count": 8,
   "id": "ed3cd3d4",
   "metadata": {},
   "outputs": [
    {
     "ename": "IndentationError",
     "evalue": "unexpected indent (1126817527.py, line 2)",
     "output_type": "error",
     "traceback": [
      "\u001b[1;36m  Input \u001b[1;32mIn [8]\u001b[1;36m\u001b[0m\n\u001b[1;33m    GENERATIONS = 50\u001b[0m\n\u001b[1;37m    ^\u001b[0m\n\u001b[1;31mIndentationError\u001b[0m\u001b[1;31m:\u001b[0m unexpected indent\n"
     ]
    }
   ],
   "source": [
    "# initialization\n",
    "    GENERATIONS = 50\n",
    "    POPULATION_SIZE = 20\n",
    "    SURVIVORS = 10\n",
    "    population = Population(size=POPULATION_SIZE, n_survivors=SURVIVORS)"
   ]
  },
  {
   "cell_type": "code",
   "execution_count": 18,
   "id": "569b08f9",
   "metadata": {},
   "outputs": [],
   "source": [
    "temp = Population(size=1, n_survivors=1)"
   ]
  },
  {
   "cell_type": "markdown",
   "id": "11ff4b5a",
   "metadata": {},
   "source": [
    "accuracy = 0\n",
    "        for x, y in zip(X_test, y_test):\n",
    "            y_pred = np.argmax(self.forward(x.reshape(-1)))  # class with highest value\n",
    "            y_true = np.argmax(y)\n",
    "            if y_pred == y_true:\n",
    "                accuracy += 1\n",
    "        return accuracy / np.shape(X_test)[0]\n",
    "    activation_functions[self.activation_function](\n",
    "            self.weight * self.connectivity_matrix @ input + self.bias"
   ]
  },
  {
   "cell_type": "code",
   "execution_count": 33,
   "id": "9366fb55",
   "metadata": {},
   "outputs": [],
   "source": [
    "connectivity_matrix = cp.asarray(np.round(np.random.rand(32, 784)))\n",
    "def softmax_gpu(x):\n",
    "    z = x - cp.max(x)   # overflow protection (softmax(x) = softmax(x - const))\n",
    "    return cp.exp(z) / cp.sum(cp.exp(z))"
   ]
  },
  {
   "cell_type": "code",
   "execution_count": 40,
   "id": "d5c1bb98",
   "metadata": {},
   "outputs": [
    {
     "name": "stdout",
     "output_type": "stream",
     "text": [
      "3.58 s ± 29.6 ms per loop (mean ± std. dev. of 7 runs, 1 loop each)\n"
     ]
    }
   ],
   "source": [
    "%%timeit\n",
    "for x, y in zip(X_test, y_test):\n",
    "    softmax_gpu(cp.asarray([1]) * connectivity_matrix @ x + cp.asarray([0]))"
   ]
  },
  {
   "cell_type": "code",
   "execution_count": 22,
   "id": "c0383488",
   "metadata": {},
   "outputs": [
    {
     "ename": "KeyboardInterrupt",
     "evalue": "",
     "output_type": "error",
     "traceback": [
      "\u001b[1;31m---------------------------------------------------------------------------\u001b[0m",
      "\u001b[1;31mKeyboardInterrupt\u001b[0m                         Traceback (most recent call last)",
      "Input \u001b[1;32mIn [22]\u001b[0m, in \u001b[0;36m<cell line: 1>\u001b[1;34m()\u001b[0m\n\u001b[1;32m----> 1\u001b[0m \u001b[43mget_ipython\u001b[49m\u001b[43m(\u001b[49m\u001b[43m)\u001b[49m\u001b[38;5;241;43m.\u001b[39;49m\u001b[43mrun_cell_magic\u001b[49m\u001b[43m(\u001b[49m\u001b[38;5;124;43m'\u001b[39;49m\u001b[38;5;124;43mtimeit\u001b[39;49m\u001b[38;5;124;43m'\u001b[39;49m\u001b[43m,\u001b[49m\u001b[43m \u001b[49m\u001b[38;5;124;43m'\u001b[39;49m\u001b[38;5;124;43m'\u001b[39;49m\u001b[43m,\u001b[49m\u001b[43m \u001b[49m\u001b[38;5;124;43m'\u001b[39;49m\u001b[38;5;124;43m#temp.organism_fitness()\u001b[39;49m\u001b[38;5;130;43;01m\\n\u001b[39;49;00m\u001b[38;5;124;43mtemp.organisms[0].evaluate()\u001b[39;49m\u001b[38;5;130;43;01m\\n\u001b[39;49;00m\u001b[38;5;124;43m'\u001b[39;49m\u001b[43m)\u001b[49m\n",
      "File \u001b[1;32m~\\anaconda3\\envs\\TF\\lib\\site-packages\\IPython\\core\\interactiveshell.py:2357\u001b[0m, in \u001b[0;36mInteractiveShell.run_cell_magic\u001b[1;34m(self, magic_name, line, cell)\u001b[0m\n\u001b[0;32m   2355\u001b[0m \u001b[38;5;28;01mwith\u001b[39;00m \u001b[38;5;28mself\u001b[39m\u001b[38;5;241m.\u001b[39mbuiltin_trap:\n\u001b[0;32m   2356\u001b[0m     args \u001b[38;5;241m=\u001b[39m (magic_arg_s, cell)\n\u001b[1;32m-> 2357\u001b[0m     result \u001b[38;5;241m=\u001b[39m fn(\u001b[38;5;241m*\u001b[39margs, \u001b[38;5;241m*\u001b[39m\u001b[38;5;241m*\u001b[39mkwargs)\n\u001b[0;32m   2358\u001b[0m \u001b[38;5;28;01mreturn\u001b[39;00m result\n",
      "File \u001b[1;32m~\\anaconda3\\envs\\TF\\lib\\site-packages\\IPython\\core\\magics\\execution.py:1166\u001b[0m, in \u001b[0;36mExecutionMagics.timeit\u001b[1;34m(self, line, cell, local_ns)\u001b[0m\n\u001b[0;32m   1163\u001b[0m         \u001b[38;5;28;01mif\u001b[39;00m time_number \u001b[38;5;241m>\u001b[39m\u001b[38;5;241m=\u001b[39m \u001b[38;5;241m0.2\u001b[39m:\n\u001b[0;32m   1164\u001b[0m             \u001b[38;5;28;01mbreak\u001b[39;00m\n\u001b[1;32m-> 1166\u001b[0m all_runs \u001b[38;5;241m=\u001b[39m \u001b[43mtimer\u001b[49m\u001b[38;5;241;43m.\u001b[39;49m\u001b[43mrepeat\u001b[49m\u001b[43m(\u001b[49m\u001b[43mrepeat\u001b[49m\u001b[43m,\u001b[49m\u001b[43m \u001b[49m\u001b[43mnumber\u001b[49m\u001b[43m)\u001b[49m\n\u001b[0;32m   1167\u001b[0m best \u001b[38;5;241m=\u001b[39m \u001b[38;5;28mmin\u001b[39m(all_runs) \u001b[38;5;241m/\u001b[39m number\n\u001b[0;32m   1168\u001b[0m worst \u001b[38;5;241m=\u001b[39m \u001b[38;5;28mmax\u001b[39m(all_runs) \u001b[38;5;241m/\u001b[39m number\n",
      "File \u001b[1;32m~\\anaconda3\\envs\\TF\\lib\\timeit.py:205\u001b[0m, in \u001b[0;36mTimer.repeat\u001b[1;34m(self, repeat, number)\u001b[0m\n\u001b[0;32m    203\u001b[0m r \u001b[38;5;241m=\u001b[39m []\n\u001b[0;32m    204\u001b[0m \u001b[38;5;28;01mfor\u001b[39;00m i \u001b[38;5;129;01min\u001b[39;00m \u001b[38;5;28mrange\u001b[39m(repeat):\n\u001b[1;32m--> 205\u001b[0m     t \u001b[38;5;241m=\u001b[39m \u001b[38;5;28;43mself\u001b[39;49m\u001b[38;5;241;43m.\u001b[39;49m\u001b[43mtimeit\u001b[49m\u001b[43m(\u001b[49m\u001b[43mnumber\u001b[49m\u001b[43m)\u001b[49m\n\u001b[0;32m    206\u001b[0m     r\u001b[38;5;241m.\u001b[39mappend(t)\n\u001b[0;32m    207\u001b[0m \u001b[38;5;28;01mreturn\u001b[39;00m r\n",
      "File \u001b[1;32m~\\anaconda3\\envs\\TF\\lib\\site-packages\\IPython\\core\\magics\\execution.py:156\u001b[0m, in \u001b[0;36mTimer.timeit\u001b[1;34m(self, number)\u001b[0m\n\u001b[0;32m    154\u001b[0m gc\u001b[38;5;241m.\u001b[39mdisable()\n\u001b[0;32m    155\u001b[0m \u001b[38;5;28;01mtry\u001b[39;00m:\n\u001b[1;32m--> 156\u001b[0m     timing \u001b[38;5;241m=\u001b[39m \u001b[38;5;28;43mself\u001b[39;49m\u001b[38;5;241;43m.\u001b[39;49m\u001b[43minner\u001b[49m\u001b[43m(\u001b[49m\u001b[43mit\u001b[49m\u001b[43m,\u001b[49m\u001b[43m \u001b[49m\u001b[38;5;28;43mself\u001b[39;49m\u001b[38;5;241;43m.\u001b[39;49m\u001b[43mtimer\u001b[49m\u001b[43m)\u001b[49m\n\u001b[0;32m    157\u001b[0m \u001b[38;5;28;01mfinally\u001b[39;00m:\n\u001b[0;32m    158\u001b[0m     \u001b[38;5;28;01mif\u001b[39;00m gcold:\n",
      "File \u001b[1;32m<magic-timeit>:2\u001b[0m, in \u001b[0;36minner\u001b[1;34m(_it, _timer)\u001b[0m\n",
      "Input \u001b[1;32mIn [6]\u001b[0m, in \u001b[0;36mNetwork.evaluate\u001b[1;34m(self)\u001b[0m\n\u001b[0;32m     14\u001b[0m     y_pred \u001b[38;5;241m=\u001b[39m np\u001b[38;5;241m.\u001b[39margmax(\u001b[38;5;28mself\u001b[39m\u001b[38;5;241m.\u001b[39mforward(x\u001b[38;5;241m.\u001b[39mreshape(\u001b[38;5;241m-\u001b[39m\u001b[38;5;241m1\u001b[39m)))  \u001b[38;5;66;03m# class with highest value\u001b[39;00m\n\u001b[0;32m     15\u001b[0m     y_true \u001b[38;5;241m=\u001b[39m np\u001b[38;5;241m.\u001b[39margmax(y)\n\u001b[1;32m---> 16\u001b[0m     \u001b[38;5;28;01mif\u001b[39;00m \u001b[43my_pred\u001b[49m\u001b[43m \u001b[49m\u001b[38;5;241;43m==\u001b[39;49m\u001b[43m \u001b[49m\u001b[43my_true\u001b[49m:\n\u001b[0;32m     17\u001b[0m         accuracy \u001b[38;5;241m+\u001b[39m\u001b[38;5;241m=\u001b[39m \u001b[38;5;241m1\u001b[39m\n\u001b[0;32m     18\u001b[0m \u001b[38;5;28;01mreturn\u001b[39;00m accuracy \u001b[38;5;241m/\u001b[39m np\u001b[38;5;241m.\u001b[39mshape(X_test)[\u001b[38;5;241m0\u001b[39m]\n",
      "\u001b[1;31mKeyboardInterrupt\u001b[0m: "
     ]
    }
   ],
   "source": [
    "%%timeit\n",
    "#temp.organism_fitness()\n",
    "temp.organisms[0].evaluate()"
   ]
  },
  {
   "cell_type": "code",
   "execution_count": null,
   "id": "e0ae3b8c",
   "metadata": {},
   "outputs": [],
   "source": [
    "# initial population\n",
    "    print('Starting training')\n",
    "    t_training = time.time()\n",
    "    population_fitness = population.organism_fitness()\n",
    "    max_fitness = population.max_fitness()\n",
    "    t2 = time.time()\n",
    "    print('Gen', 0, ':',\n",
    "          population_fitness, '- max:',\n",
    "          max_fitness,\n",
    "          '({}s)'.format(round(t2 - t_training, 2)))\n",
    "\n",
    "    # future populations\n",
    "    for generation in range(1, GENERATIONS):\n",
    "        # breed new population\n",
    "        t1 = time.time()\n",
    "        population.breed()\n",
    "\n",
    "        # evaluate new population\n",
    "        population_fitness = population.organism_fitness()\n",
    "        max_fitness = population.max_fitness()\n",
    "        t2 = time.time()\n",
    "\n",
    "        print('Gen', generation, ':',\n",
    "              population_fitness, '- max:',\n",
    "              max_fitness,\n",
    "              '({}s)'.format(round(t2 - t1, 2)))\n",
    "\n",
    "    print('Finished training ({})'.format(round(time.time() - t_training, 2)))\n",
    "    print('\\nTotal computation time: ({}s)'.format(round(time.time() - t0, 2)))\n",
    "\n",
    "    # performance of population\n",
    "    population.plot()"
   ]
  }
 ],
 "metadata": {
  "kernelspec": {
   "display_name": "Python 3 (ipykernel)",
   "language": "python",
   "name": "python3"
  },
  "language_info": {
   "codemirror_mode": {
    "name": "ipython",
    "version": 3
   },
   "file_extension": ".py",
   "mimetype": "text/x-python",
   "name": "python",
   "nbconvert_exporter": "python",
   "pygments_lexer": "ipython3",
   "version": "3.9.12"
  }
 },
 "nbformat": 4,
 "nbformat_minor": 5
}
